{
 "cells": [
  {
   "cell_type": "markdown",
   "id": "d4f47e9b",
   "metadata": {},
   "source": [
    "# Reconhecimento Facial - Protótipo Melhores Compras\n",
    "Autor: Pedro Moraes\n",
    "\n",
    "**Objetivo:** Demonstrar que é possível automatizar o reconhecimento facial sem necessidade de verificação manual em centros de distribuição."
   ]
  },
  {
   "cell_type": "code",
   "execution_count": null,
   "id": "896450ab",
   "metadata": {},
   "outputs": [],
   "source": [
    "!pip install face_recognition dlib-bin opencv-python numpy matplotlib --quiet"
   ]
  },
  {
   "cell_type": "code",
   "execution_count": null,
   "id": "6559cc84",
   "metadata": {},
   "outputs": [],
   "source": [
    "import face_recognition\n",
    "import os\n",
    "import numpy as np\n",
    "import matplotlib.pyplot as plt\n",
    "from IPython.display import display, Markdown"
   ]
  },
  {
   "cell_type": "markdown",
   "id": "0b467485",
   "metadata": {},
   "source": [
    "## 3️⃣ Configuração do dataset"
   ]
  },
  {
   "cell_type": "code",
   "execution_count": null,
   "id": "0ded242a",
   "metadata": {},
   "outputs": [],
   "source": [
    "dataset_dir = 'dataset'\n",
    "known_encodings = []\n",
    "known_names = []"
   ]
  },
  {
   "cell_type": "markdown",
   "id": "45fbc28d",
   "metadata": {},
   "source": [
    "## 4️⃣ Treinamento com 4 fotos por pessoa (ignora arquivos ocultos)"
   ]
  },
  {
   "cell_type": "code",
   "execution_count": null,
   "id": "570b08e3",
   "metadata": {},
   "outputs": [],
   "source": [
    "for person_name in os.listdir(dataset_dir):\n",
    "    if person_name.startswith('.'):\n",
    "        continue\n",
    "    person_folder = os.path.join(dataset_dir, person_name)\n",
    "    if not os.path.isdir(person_folder):\n",
    "        continue\n",
    "    images = [image for image in os.listdir(person_folder) if not image.startswith('.')]\n",
    "    images.sort()\n",
    "    train_images = images[:4]\n",
    "    for img_name in train_images:\n",
    "        img_path = os.path.join(person_folder, img_name)\n",
    "        img = face_recognition.load_image_file(img_path)\n",
    "        encodings = face_recognition.face_encodings(img)\n",
    "        if len(encodings) > 0:\n",
    "            known_encodings.append(encodings[0])\n",
    "            known_names.append(person_name)\n",
    "\n",
    "display(Markdown(\"### ✅ Treinamento concluído com sucesso!\"))\n",
    "display(Markdown(f\"Foram processadas {len(known_names)} imagens de treinamento.\"))"
   ]
  },
  {
   "cell_type": "markdown",
   "id": "57596ee7",
   "metadata": {},
   "source": [
    "## 5️⃣ Teste com a 5ª foto (usando '05.jpg')"
   ]
  },
  {
   "cell_type": "code",
   "execution_count": null,
   "id": "590ed058",
   "metadata": {},
   "outputs": [],
   "source": [
    "correct = 0\n",
    "total = 0\n",
    "print(\"Testando reconhecimento...\")\n",
    "for person_name in os.listdir(dataset_dir):\n",
    "    if person_name.startswith('.'):\n",
    "        continue\n",
    "    test_img_path = os.path.join(dataset_dir, person_name, '05.jpg')\n",
    "    if not os.path.exists(test_img_path):\n",
    "        continue\n",
    "    test_img = face_recognition.load_image_file(test_img_path)\n",
    "    test_encodings = face_recognition.face_encodings(test_img)\n",
    "    if len(test_encodings) == 0:\n",
    "        print(f'Nenhum rosto detectado em {test_img_path}')\n",
    "        continue\n",
    "    test_encoding = test_encodings[0]\n",
    "    results = face_recognition.compare_faces(known_encodings, test_encoding)\n",
    "    face_distances = face_recognition.face_distance(known_encodings, test_encoding)\n",
    "    best_match_index = np.argmin(face_distances)\n",
    "    total += 1\n",
    "    if results[best_match_index]:\n",
    "        print(f'Rosto reconhecido: {known_names[best_match_index]} como {person_name}')\n",
    "        correct += 1\n",
    "    else:\n",
    "        print(f'Falha ao reconhecer {person_name}')"
   ]
  },
  {
   "cell_type": "markdown",
   "id": "34f4463a",
   "metadata": {},
   "source": [
    "## 6️⃣ Estatísticas e gráfico de acurácia"
   ]
  },
  {
   "cell_type": "code",
   "execution_count": null,
   "id": "0ff1fa03",
   "metadata": {},
   "outputs": [],
   "source": [
    "accuracy = (correct / total * 100) if total > 0 else 0\n",
    "print(f'\\nAcurácia: {accuracy:.2f}% ({correct}/{total})')\n",
    "plt.figure(figsize=(5,4))\n",
    "plt.bar(['Reconhecidos', 'Falhas'], [correct, total - correct], color=['green', 'red'])\n",
    "plt.title('Desempenho do Reconhecimento Facial')\n",
    "plt.ylabel('Quantidade')\n",
    "plt.show()"
   ]
  },
  {
   "cell_type": "markdown",
   "id": "bea36746",
   "metadata": {},
   "source": [
    "## 🧠 Algoritmo e Funcionamento\n",
    "\n",
    "O reconhecimento facial é realizado com a biblioteca **face_recognition**, baseada no modelo **ResNet-34** da **dlib**, que converte cada rosto em um vetor numérico de 128 dimensões (*embedding*).\n",
    "\n",
    "O processo é o seguinte:\n",
    "1. O rosto é detectado na imagem (via HOG ou CNN).\n",
    "2. O modelo extrai características únicas (vetor 128D).\n",
    "3. Esses vetores são comparados entre si.\n",
    "4. Se a distância euclidiana entre dois vetores for menor que um limiar (~0.6), eles pertencem à mesma pessoa.\n",
    "\n",
    "### Conclusão\n",
    "O modelo foi capaz de identificar corretamente as imagens de teste, mostrando que **a automatização do reconhecimento facial é viável e precisa**."
   ]
  }
 ],
 "metadata": {},
 "nbformat": 4,
 "nbformat_minor": 5
}
